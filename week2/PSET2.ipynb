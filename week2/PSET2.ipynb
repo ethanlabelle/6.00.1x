{
 "cells": [
  {
   "cell_type": "markdown",
   "metadata": {
    "jupyter": {
     "outputs_hidden": true
    }
   },
   "source": [
    "**Problem 1**\n",
    "\n",
    "Write a program to calculate the credit card balance after one year if a person only pays the minimum monthly payment required by the credit card company each month.\n",
    "\n",
    "The following variables contain values as described below:\n",
    "\n",
    "balance - the outstanding balance on the credit card\n",
    "\n",
    "annualInterestRate - annual interest rate as a decimal\n",
    "\n",
    "monthlyPaymentRate - minimum monthly payment rate as a decim"
   ]
  },
  {
   "cell_type": "code",
   "execution_count": 3,
   "metadata": {},
   "outputs": [],
   "source": [
    "balance = 42\n",
    "annualInterestRate = 0.2\n",
    "monthlyPaymentRate = 0.04\n",
    "monthlyInterestRate = annualInterestRate/12\n",
    "\n",
    "def minimum_payment(balance):\n",
    "    \n",
    "    \n",
    "    #calculate unpaid balance before interest with minimum monthly payment\n",
    "    unpaid_balance = balance - balance * monthlyPaymentRate\n",
    "    \n",
    "    #calculate unpaid balance after interest\n",
    "    unpaid_balance *= (1 + monthlyInterestRate)\n",
    "    \n",
    "    #round unpaid balance\n",
    "    unpaid_balance = round(unpaid_balance, 2)\n",
    "    \n",
    "    #print('Remaining Balance is: {}'.format(unpaid_balance))\n",
    "    return unpaid_balance\n"
   ]
  },
  {
   "cell_type": "code",
   "execution_count": 4,
   "metadata": {},
   "outputs": [
    {
     "name": "stdout",
     "output_type": "stream",
     "text": [
      "Remaining Balance is: 31.39\n"
     ]
    }
   ],
   "source": [
    "balance = 42\n",
    "annualInterestRate = 0.2\n",
    "monthlyPaymentRate = 0.04\n",
    "\n",
    "for i in range(12):\n",
    "    balance = minimum_payment(balance)\n",
    "\n",
    "print('Remaining Balance is: {}'.format(balance))"
   ]
  },
  {
   "cell_type": "markdown",
   "metadata": {},
   "source": [
    "**Problem 2**\n",
    "\n",
    "Now write a program that calculates the minimum fixed monthly payment needed in order pay off a credit card balance within 12 months. By a fixed monthly payment, we mean a single number which does not change each month, but instead is a constant amount that will be paid each month.\n",
    "\n",
    "In this problem, we will not be dealing with a minimum monthly payment rate.\n",
    "\n",
    "The following variables contain values as described below:\n",
    "\n",
    "balance - the outstanding balance on the credit card\n",
    "\n",
    "annualInterestRate - annual interest rate as a decimal\n",
    "\n",
    "The program should print out one line: the lowest monthly payment that will pay off all debt in under 1 year"
   ]
  },
  {
   "cell_type": "code",
   "execution_count": 12,
   "metadata": {},
   "outputs": [
    {
     "name": "stdout",
     "output_type": "stream",
     "text": [
      "Lowest Payment: 360\n"
     ]
    }
   ],
   "source": [
    "balance = 3926\n",
    "annualInterestRate = .2\n",
    "monthlyInterestRate = annualInterestRate/12\n",
    "\n",
    "def pay(balance, payment):\n",
    "    \n",
    "    #calculate unpaid balance before interest after payment\n",
    "    unpaid_balance = balance - payment\n",
    "    \n",
    "    #calculate unpaid balance after interest\n",
    "    unpaid_balance *= (1 + monthlyInterestRate)\n",
    "    \n",
    "    #round unpaid balance\n",
    "    unpaid_balance = round(unpaid_balance, 2)\n",
    "    \n",
    "    #print('Remaining Balance is: {}'.format(unpaid_balance))\n",
    "    return unpaid_balance\n",
    "\n",
    "\n",
    "debt = balance\n",
    "payment = 0\n",
    "\n",
    "while debt > 0:\n",
    "    debt = balance\n",
    "    payment += 10\n",
    "    for i in range (12):\n",
    "        debt = pay(debt, payment)\n",
    "\n",
    "print('Lowest Payment: {}'.format(payment))"
   ]
  },
  {
   "cell_type": "markdown",
   "metadata": {},
   "source": [
    "**Problem 3**\n",
    "\n",
    "Well then, how can we calculate a more accurate fixed monthly payment than we did in Problem 2 without running into the problem of slow code? We can make this program run faster using a technique introduced in lecture - bisection search!\n",
    "\n",
    "The following variables contain values as described below:\n",
    "\n",
    "balance - the outstanding balance on the credit card\n",
    "\n",
    "annualInterestRate - annual interest rate as a decimal\n",
    "\n",
    "To recap the problem: we are searching for the smallest monthly payment such that we can pay off the entire balance within a year. What is a reasonable lower bound for this payment value? \\$0 is the obvious answer, but you can do better than that. If there was no interest, the debt can be paid off by monthly payments of one-twelfth of the original balance, so we must pay at least this much every month. One-twelfth of the original balance is a good lower bound.\n",
    "\n",
    "What is a good upper bound? Imagine that instead of paying monthly, we paid off the entire balance at the end of the year. What we ultimately pay must be greater than what we would've paid in monthly installments, because the interest was compounded on the balance we didn't pay off each month. So a good upper bound for the monthly payment would be one-twelfth of the balance, after having its interest compounded monthly for an entire year.\n",
    "\n",
    "In short:\n",
    "\n",
    "Monthly interest rate = (Annual interest rate) / 12.0\n",
    "\n",
    "Monthly payment lower bound = Balance / 12\n",
    "\n",
    "Monthly payment upper bound = (Balance x (1 + Monthly interest rate)12) / 12.0\n",
    "\n",
    "Write a program that uses these bounds and bisection search (for more info check out the Wikipedia page on bisection search) to find the smallest monthly payment to the cent (no more multiples of $10) such that we can pay off the debt within a year. Try it out with large inputs, and notice how fast it is (try the same large inputs in your solution to Problem 2 to compare!). Produce the same return value as you did in Problem 2."
   ]
  },
  {
   "cell_type": "code",
   "execution_count": 35,
   "metadata": {},
   "outputs": [
    {
     "name": "stdout",
     "output_type": "stream",
     "text": [
      "Lowest Payment: 90325.03\n"
     ]
    }
   ],
   "source": [
    "balance = 999999\n",
    "annualInterestRate = 0.18\n",
    "monthlyInterestRate = annualInterestRate/12\n",
    "\n",
    "def pay(balance, payment = 0):\n",
    "    '''\n",
    "    input: current balance(debt), payment amount\n",
    "    output: new balance after calculating monthly interest\n",
    "    '''\n",
    "    #calculate unpaid balance before interest after payment\n",
    "    unpaid_balance = balance - payment\n",
    "    \n",
    "    #calculate unpaid balance after interest\n",
    "    unpaid_balance *= (1 + monthlyInterestRate)\n",
    "    \n",
    "    #round unpaid balance\n",
    "    unpaid_balance = round(unpaid_balance, 2)\n",
    "    \n",
    "    #print('Remaining Balance is: {}'.format(unpaid_balance))\n",
    "    return unpaid_balance\n",
    "\n",
    "payment = 0\n",
    "debt = balance\n",
    "lower = balance /12\n",
    "upper = balance\n",
    "\n",
    "#calculate upper limit:\n",
    "#    let interest accumulate for 12 months, divide total payment by 12\n",
    "for i in range(12):\n",
    "    upper = pay(upper) #upper limit acts as balance\n",
    "\n",
    "upper = upper / 12\n",
    "\n",
    "#print(upper, lower)\n",
    "\n",
    "#use bisection search to find optimal payment\n",
    "\n",
    "while abs(debt) > .01:\n",
    "    debt = balance\n",
    "    payment = (upper + lower)/2\n",
    "    for i in range(12):\n",
    "        debt = pay(debt, payment)\n",
    "        #print(debt)\n",
    "    if debt > 0:\n",
    "        lower = payment\n",
    "    elif debt < 0:\n",
    "        upper = payment\n",
    "    #print(payment, debt)\n",
    "\n",
    "print('Lowest Payment: {}'.format(round(payment,2)))"
   ]
  },
  {
   "cell_type": "code",
   "execution_count": null,
   "metadata": {},
   "outputs": [],
   "source": []
  }
 ],
 "metadata": {
  "kernelspec": {
   "display_name": "Python 3",
   "language": "python",
   "name": "python3"
  },
  "language_info": {
   "codemirror_mode": {
    "name": "ipython",
    "version": 3
   },
   "file_extension": ".py",
   "mimetype": "text/x-python",
   "name": "python",
   "nbconvert_exporter": "python",
   "pygments_lexer": "ipython3",
   "version": "3.7.4"
  }
 },
 "nbformat": 4,
 "nbformat_minor": 4
}
