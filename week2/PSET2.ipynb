{
 "cells": [
  {
   "cell_type": "markdown",
   "metadata": {
    "jupyter": {
     "outputs_hidden": true
    }
   },
   "source": [
    "**Problem 1**\n",
    "\n",
    "Write a program to calculate the credit card balance after one year if a person only pays the minimum monthly payment required by the credit card company each month.\n",
    "\n",
    "The following variables contain values as described below:\n",
    "\n",
    "balance - the outstanding balance on the credit card\n",
    "\n",
    "annualInterestRate - annual interest rate as a decimal\n",
    "\n",
    "monthlyPaymentRate - minimum monthly payment rate as a decim"
   ]
  },
  {
   "cell_type": "code",
   "execution_count": 39,
   "metadata": {},
   "outputs": [],
   "source": [
    "monthlyInterestRate = annualInterestRate/12\n",
    "\n",
    "def minimum_payment(balance):\n",
    "    \n",
    "    \n",
    "    #calculate unpaid balance before interest with minimum monthly payment\n",
    "    unpaid_balance = balance - balance * monthlyPaymentRate\n",
    "    \n",
    "    #calculate unpaid balance after interest\n",
    "    unpaid_balance *= (1 + monthlyInterestRate)\n",
    "    \n",
    "    #round unpaid balance\n",
    "    unpaid_balance = round(unpaid_balance, 2)\n",
    "    \n",
    "    #print('Remaining Balance is: {}'.format(unpaid_balance))\n",
    "    return unpaid_balance\n"
   ]
  },
  {
   "cell_type": "code",
   "execution_count": 40,
   "metadata": {},
   "outputs": [
    {
     "name": "stdout",
     "output_type": "stream",
     "text": [
      "Remaining Balance is: 31.39\n"
     ]
    }
   ],
   "source": [
    "balance = 42\n",
    "annualInterestRate = 0.2\n",
    "monthlyPaymentRate = 0.04\n",
    "\n",
    "for i in range(12):\n",
    "    balance = minimum_payment(balance)\n",
    "\n",
    "print('Remaining Balance is: {}'.format(balance))"
   ]
  },
  {
   "cell_type": "markdown",
   "metadata": {},
   "source": [
    "**Problem 2**\n",
    "\n",
    "Now write a program that calculates the minimum fixed monthly payment needed in order pay off a credit card balance within 12 months. By a fixed monthly payment, we mean a single number which does not change each month, but instead is a constant amount that will be paid each month.\n",
    "\n",
    "In this problem, we will not be dealing with a minimum monthly payment rate.\n",
    "\n",
    "The following variables contain values as described below:\n",
    "\n",
    "balance - the outstanding balance on the credit card\n",
    "\n",
    "annualInterestRate - annual interest rate as a decimal\n",
    "\n",
    "The program should print out one line: the lowest monthly payment that will pay off all debt in under 1 year"
   ]
  },
  {
   "cell_type": "code",
   "execution_count": null,
   "metadata": {},
   "outputs": [],
   "source": [
    "balance = 3329\n",
    "annualInterestRate = .2\n",
    "monthlyInterestRate = annualInterestRate/12\n",
    "\n",
    "def payment(balance, payment):\n",
    "    \n",
    "    #calculate unpaid balance before interest after payment\n",
    "    unpaid_balance = balance - balance * monthlyPaymentRate\n",
    "    \n",
    "    #calculate unpaid balance after interest\n",
    "    unpaid_balance *= (1 + monthlyInterestRate)\n",
    "    \n",
    "    #round unpaid balance\n",
    "    unpaid_balance = round(unpaid_balance, 2)\n",
    "    \n",
    "    #print('Remaining Balance is: {}'.format(unpaid_balance))\n",
    "    return unpaid_balance\n"
   ]
  }
 ],
 "metadata": {
  "kernelspec": {
   "display_name": "Python 3",
   "language": "python",
   "name": "python3"
  },
  "language_info": {
   "codemirror_mode": {
    "name": "ipython",
    "version": 3
   },
   "file_extension": ".py",
   "mimetype": "text/x-python",
   "name": "python",
   "nbconvert_exporter": "python",
   "pygments_lexer": "ipython3",
   "version": "3.7.4"
  }
 },
 "nbformat": 4,
 "nbformat_minor": 4
}
